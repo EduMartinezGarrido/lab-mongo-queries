{
 "cells": [
  {
   "cell_type": "markdown",
   "metadata": {},
   "source": [
    "# Advanced Querying Mongo"
   ]
  },
  {
   "cell_type": "markdown",
   "metadata": {},
   "source": [
    "Importing libraries and setting up connection"
   ]
  },
  {
   "cell_type": "code",
   "execution_count": 2,
   "metadata": {},
   "outputs": [],
   "source": [
    "from pymongo import MongoClient\n",
    "client = MongoClient(\"localhost:27017\")"
   ]
  },
  {
   "cell_type": "code",
   "execution_count": 3,
   "metadata": {
    "scrolled": true
   },
   "outputs": [
    {
     "data": {
      "text/plain": [
       "MongoClient(host=['localhost:27017'], document_class=dict, tz_aware=False, connect=True)"
      ]
     },
     "execution_count": 3,
     "metadata": {},
     "output_type": "execute_result"
    }
   ],
   "source": [
    "client"
   ]
  },
  {
   "cell_type": "code",
   "execution_count": 5,
   "metadata": {},
   "outputs": [
    {
     "data": {
      "text/plain": [
       "['admin', 'config', 'ironhack', 'local']"
      ]
     },
     "execution_count": 5,
     "metadata": {},
     "output_type": "execute_result"
    }
   ],
   "source": [
    "client.list_database_names()"
   ]
  },
  {
   "cell_type": "code",
   "execution_count": 6,
   "metadata": {},
   "outputs": [],
   "source": [
    "db = client.get_database(\"ironhack\")"
   ]
  },
  {
   "cell_type": "code",
   "execution_count": 7,
   "metadata": {},
   "outputs": [
    {
     "data": {
      "text/plain": [
       "Database(MongoClient(host=['localhost:27017'], document_class=dict, tz_aware=False, connect=True), 'ironhack')"
      ]
     },
     "execution_count": 7,
     "metadata": {},
     "output_type": "execute_result"
    }
   ],
   "source": [
    "db"
   ]
  },
  {
   "cell_type": "code",
   "execution_count": 11,
   "metadata": {},
   "outputs": [],
   "source": [
    "collection = db.get_collection(\"companies\")\n"
   ]
  },
  {
   "cell_type": "markdown",
   "metadata": {},
   "source": [
    "### 1. All the companies whose name match 'Babelgum'. Retrieve only their `name` field."
   ]
  },
  {
   "cell_type": "code",
   "execution_count": 39,
   "metadata": {},
   "outputs": [
    {
     "data": {
      "text/plain": [
       "dict_keys(['_id', 'name', 'permalink', 'crunchbase_url', 'homepage_url', 'blog_url', 'blog_feed_url', 'twitter_username', 'category_code', 'number_of_employees', 'founded_year', 'deadpooled_year', 'tag_list', 'alias_list', 'email_address', 'phone_number', 'description', 'created_at', 'updated_at', 'overview', 'image', 'products', 'relationships', 'competitions', 'providerships', 'total_money_raised', 'funding_rounds', 'investments', 'acquisition', 'acquisitions', 'offices', 'milestones', 'video_embeds', 'screenshots', 'external_links', 'partners'])"
      ]
     },
     "execution_count": 39,
     "metadata": {},
     "output_type": "execute_result"
    }
   ],
   "source": [
    "collection.find_one().keys()"
   ]
  },
  {
   "cell_type": "code",
   "execution_count": 24,
   "metadata": {},
   "outputs": [
    {
     "data": {
      "text/plain": [
       "[{'name': 'Babelgum'}]"
      ]
     },
     "execution_count": 24,
     "metadata": {},
     "output_type": "execute_result"
    }
   ],
   "source": [
    "proj = {\"_id\": 0,\"name\": 1}\n",
    "list(collection.find({\"name\":'Babelgum'},proj))"
   ]
  },
  {
   "cell_type": "markdown",
   "metadata": {},
   "source": [
    "### 2. All the companies that have more than 5000 employees. Limit the search to 20 companies and sort them by **number of employees**."
   ]
  },
  {
   "cell_type": "code",
   "execution_count": 33,
   "metadata": {},
   "outputs": [
    {
     "data": {
      "text/plain": [
       "[{'name': 'Nintendo'},\n",
       " {'name': 'Hexaware Technologies'},\n",
       " {'name': 'Facebook'},\n",
       " {'name': 'OpenText'},\n",
       " {'name': 'CPM Braxis'},\n",
       " {'name': 'LSI'},\n",
       " {'name': 'Microchip Technologies'},\n",
       " {'name': 'Mediaset'},\n",
       " {'name': 'Mindray Medical International'},\n",
       " {'name': 'Tata Communications'},\n",
       " {'name': 'Baidu'},\n",
       " {'name': 'Dentsu'},\n",
       " {'name': 'Atmel'},\n",
       " {'name': 'Acxiom'},\n",
       " {'name': 'Acxiom'},\n",
       " {'name': 'SRA International'},\n",
       " {'name': \"Moody's\"},\n",
       " {'name': 'ManTech'},\n",
       " {'name': 'Adobe Systems'},\n",
       " {'name': 'Broadcom'}]"
      ]
     },
     "execution_count": 33,
     "metadata": {},
     "output_type": "execute_result"
    }
   ],
   "source": [
    "proj = {\"_id\": 0,\"name\": 1}\n",
    "list(collection.find({\"number_of_employees\":{\"$gt\": 5000}},proj).limit(20).sort(\"number_of_employees\",1))"
   ]
  },
  {
   "cell_type": "markdown",
   "metadata": {},
   "source": [
    "### 3. All the companies founded between 2000 and 2005, both years included. Retrieve only the `name` and `founded_year` fields."
   ]
  },
  {
   "cell_type": "code",
   "execution_count": 37,
   "metadata": {},
   "outputs": [
    {
     "data": {
      "text/plain": [
       "[{'name': 'Wetpaint', 'founded_year': 2005},\n",
       " {'name': 'Zoho', 'founded_year': 2005},\n",
       " {'name': 'Digg', 'founded_year': 2004},\n",
       " {'name': 'Omnidrive', 'founded_year': 2005},\n",
       " {'name': 'StumbleUpon', 'founded_year': 2002},\n",
       " {'name': 'Gizmoz', 'founded_year': 2003},\n",
       " {'name': 'Helio', 'founded_year': 2005},\n",
       " {'name': 'Facebook', 'founded_year': 2004},\n",
       " {'name': 'Plaxo', 'founded_year': 2002},\n",
       " {'name': 'Technorati', 'founded_year': 2002},\n",
       " {'name': 'AddThis', 'founded_year': 2004},\n",
       " {'name': 'Veoh', 'founded_year': 2004},\n",
       " {'name': 'Jingle Networks', 'founded_year': 2005},\n",
       " {'name': 'Meetup', 'founded_year': 2002},\n",
       " {'name': 'Wesabe', 'founded_year': 2005},\n",
       " {'name': 'Jangl SMS', 'founded_year': 2005},\n",
       " {'name': 'SmugMug', 'founded_year': 2002},\n",
       " {'name': 'LifeLock', 'founded_year': 2005},\n",
       " {'name': 'Jajah', 'founded_year': 2005},\n",
       " {'name': 'Skype', 'founded_year': 2003}]"
      ]
     },
     "execution_count": 37,
     "metadata": {},
     "output_type": "execute_result"
    }
   ],
   "source": [
    "proj = {\"_id\": 0,\"name\": 1,\"founded_year\":1}\n",
    "condicion1 = {\"founded_year\": {\"$gte\": 2000}}\n",
    "condicion2 = {\"founded_year\": {\"$lte\": 2005}}\n",
    "list(collection.find({\"$and\": [condicion1,condicion2]},proj).limit(20))"
   ]
  },
  {
   "cell_type": "markdown",
   "metadata": {},
   "source": [
    "### 4. All the companies that had a Valuation Amount of more than 100.000.000 and have been founded before 2010. Retrieve only the `name` and `ipo` fields."
   ]
  },
  {
   "cell_type": "code",
   "execution_count": 41,
   "metadata": {
    "scrolled": true
   },
   "outputs": [
    {
     "data": {
      "text/plain": [
       "[{'name': 'Twitter',\n",
       "  'ipo': {'valuation_amount': 18100000000,\n",
       "   'valuation_currency_code': 'USD',\n",
       "   'pub_year': 2013,\n",
       "   'pub_month': 11,\n",
       "   'pub_day': 7,\n",
       "   'stock_symbol': 'NYSE:TWTR'}},\n",
       " {'name': 'Facebook',\n",
       "  'ipo': {'valuation_amount': 104000000000,\n",
       "   'valuation_currency_code': 'USD',\n",
       "   'pub_year': 2012,\n",
       "   'pub_month': 5,\n",
       "   'pub_day': 18,\n",
       "   'stock_symbol': 'NASDAQ:FB'}},\n",
       " {'name': 'Yelp',\n",
       "  'ipo': {'valuation_amount': 1300000000,\n",
       "   'valuation_currency_code': 'USD',\n",
       "   'pub_year': 2012,\n",
       "   'pub_month': 3,\n",
       "   'pub_day': 2,\n",
       "   'stock_symbol': 'NYSE:YELP'}},\n",
       " {'name': 'LinkedIn',\n",
       "  'ipo': {'valuation_amount': 9310000000,\n",
       "   'valuation_currency_code': 'USD',\n",
       "   'pub_year': 2011,\n",
       "   'pub_month': 7,\n",
       "   'pub_day': 20,\n",
       "   'stock_symbol': 'NYSE:LNKD'}},\n",
       " {'name': 'Brightcove',\n",
       "  'ipo': {'valuation_amount': 290000000,\n",
       "   'valuation_currency_code': 'USD',\n",
       "   'pub_year': 2012,\n",
       "   'pub_month': 2,\n",
       "   'pub_day': 17,\n",
       "   'stock_symbol': 'NASDAQ:BCOV'}},\n",
       " {'name': 'Amazon',\n",
       "  'ipo': {'valuation_amount': 100000000000,\n",
       "   'valuation_currency_code': 'USD',\n",
       "   'pub_year': 1997,\n",
       "   'pub_month': 5,\n",
       "   'pub_day': None,\n",
       "   'stock_symbol': 'NASDAQ:AMZN'}},\n",
       " {'name': 'KIT digital',\n",
       "  'ipo': {'valuation_amount': 235000000,\n",
       "   'valuation_currency_code': 'USD',\n",
       "   'pub_year': 2010,\n",
       "   'pub_month': 7,\n",
       "   'pub_day': 27,\n",
       "   'stock_symbol': 'KITD'}},\n",
       " {'name': 'Nielsen',\n",
       "  'ipo': {'valuation_amount': 1600000000,\n",
       "   'valuation_currency_code': 'USD',\n",
       "   'pub_year': 2011,\n",
       "   'pub_month': 1,\n",
       "   'pub_day': 26,\n",
       "   'stock_symbol': 'NYSE:NLSN'}},\n",
       " {'name': 'OpenTable',\n",
       "  'ipo': {'valuation_amount': 1050000000,\n",
       "   'valuation_currency_code': 'USD',\n",
       "   'pub_year': 2009,\n",
       "   'pub_month': 5,\n",
       "   'pub_day': 21,\n",
       "   'stock_symbol': 'NASDAQ:OPEN'}},\n",
       " {'name': 'ChannelAdvisor',\n",
       "  'ipo': {'valuation_amount': 287000000,\n",
       "   'valuation_currency_code': 'USD',\n",
       "   'pub_year': 2013,\n",
       "   'pub_month': 5,\n",
       "   'pub_day': 23,\n",
       "   'stock_symbol': 'NYSE:ECOM'}}]"
      ]
     },
     "execution_count": 41,
     "metadata": {},
     "output_type": "execute_result"
    }
   ],
   "source": [
    "proj = {\"_id\": 0,\"name\": 1,\"ipo\":1}\n",
    "condicion1 = {\"ipo.valuation_amount\": {\"$gte\": 100000000}}\n",
    "condicion2 = {\"founded_year\": {\"$lte\": 2010}}\n",
    "list(collection.find({\"$and\": [condicion1,condicion2]},proj).limit(10))"
   ]
  },
  {
   "cell_type": "markdown",
   "metadata": {},
   "source": [
    "### 5. All the companies that have less than 1000 employees and have been founded before 2005. Order them by the number of employees and limit the search to 10 companies."
   ]
  },
  {
   "cell_type": "code",
   "execution_count": 42,
   "metadata": {},
   "outputs": [
    {
     "data": {
      "text/plain": [
       "[{'name': 'Fox Interactive Media'},\n",
       " {'name': 'Ticketmaster'},\n",
       " {'name': 'Eurekster'},\n",
       " {'name': 'MindTouch'},\n",
       " {'name': 'Skype'},\n",
       " {'name': 'Monster'},\n",
       " {'name': 'EditGrid'},\n",
       " {'name': 'Simpy'},\n",
       " {'name': 'Compete'},\n",
       " {'name': 'stylediary'}]"
      ]
     },
     "execution_count": 42,
     "metadata": {},
     "output_type": "execute_result"
    }
   ],
   "source": [
    "proj = {\"_id\": 0,\"name\": 1}\n",
    "condicion1 = {\"number_of_employees\":{\"$lt\": 1000}}\n",
    "condicion2 = {\"founded_year\": {\"$lt\": 2005}}\n",
    "list(collection.find({\"$and\": [condicion1,condicion2]},proj).limit(10).sort(\"number_of_employees\",1))"
   ]
  },
  {
   "cell_type": "markdown",
   "metadata": {},
   "source": [
    "### 6. All the companies that don't include the `partners` field."
   ]
  },
  {
   "cell_type": "code",
   "execution_count": 45,
   "metadata": {},
   "outputs": [
    {
     "data": {
      "text/plain": [
       "[]"
      ]
     },
     "execution_count": 45,
     "metadata": {},
     "output_type": "execute_result"
    }
   ],
   "source": [
    "proj = {\"_id\": 0,\"name\": 1}\n",
    "list(collection.find({\"partners\":{\"$exists\":False}},proj))"
   ]
  },
  {
   "cell_type": "markdown",
   "metadata": {},
   "source": [
    "### 7. All the companies that have a null type of value on the `category_code` field."
   ]
  },
  {
   "cell_type": "code",
   "execution_count": 113,
   "metadata": {},
   "outputs": [
    {
     "data": {
      "text/plain": [
       "[{'name': 'Collective', 'category_code': None},\n",
       " {'name': 'KoolIM', 'category_code': None},\n",
       " {'name': 'Snimmer', 'category_code': None},\n",
       " {'name': 'Level9 Media', 'category_code': None},\n",
       " {'name': 'VidKing', 'category_code': None},\n",
       " {'name': 'Drigg', 'category_code': None},\n",
       " {'name': 'SpaceTime', 'category_code': None},\n",
       " {'name': 'MMDAYS', 'category_code': None},\n",
       " {'name': 'Touch Clarity', 'category_code': None},\n",
       " {'name': 'Inside Group', 'category_code': None}]"
      ]
     },
     "execution_count": 113,
     "metadata": {},
     "output_type": "execute_result"
    }
   ],
   "source": [
    "proj = {\"_id\": 0,\"name\": 1,\"category_code\":1}\n",
    "list(collection.find({\"category_code\":{ \"$type\": 10}},proj).limit(10))"
   ]
  },
  {
   "cell_type": "markdown",
   "metadata": {},
   "source": [
    "### 8. All the companies that have at least 100 employees but less than 1000. Retrieve only the `name` and `number of employees` fields."
   ]
  },
  {
   "cell_type": "code",
   "execution_count": 60,
   "metadata": {},
   "outputs": [
    {
     "data": {
      "text/plain": [
       "[{'name': 'AdventNet', 'number_of_employees': 600},\n",
       " {'name': 'AddThis', 'number_of_employees': 120},\n",
       " {'name': 'OpenX', 'number_of_employees': 305},\n",
       " {'name': 'LifeLock', 'number_of_employees': 644},\n",
       " {'name': 'Jajah', 'number_of_employees': 110},\n",
       " {'name': 'Livestream', 'number_of_employees': 120},\n",
       " {'name': 'Ustream', 'number_of_employees': 250},\n",
       " {'name': 'iContact', 'number_of_employees': 300},\n",
       " {'name': 'Yelp', 'number_of_employees': 800},\n",
       " {'name': 'Dailymotion', 'number_of_employees': 120}]"
      ]
     },
     "execution_count": 60,
     "metadata": {},
     "output_type": "execute_result"
    }
   ],
   "source": [
    "proj = {\"_id\": 0,\"name\": 1,\"number_of_employees\":1}\n",
    "condicion1 = {\"number_of_employees\":{\"$gte\": 100}}\n",
    "condicion2 = {\"number_of_employees\":{\"$lt\": 1000}}\n",
    "list(collection.find({\"$and\": [condicion1,condicion2]},proj).limit(10))"
   ]
  },
  {
   "cell_type": "markdown",
   "metadata": {},
   "source": [
    "### 9. Order all the companies by their IPO price in a descending order."
   ]
  },
  {
   "cell_type": "code",
   "execution_count": 103,
   "metadata": {},
   "outputs": [
    {
     "data": {
      "text/plain": [
       "[{'name': 'GREE'},\n",
       " {'name': 'Facebook'},\n",
       " {'name': 'Amazon'},\n",
       " {'name': 'Twitter'},\n",
       " {'name': 'Groupon'},\n",
       " {'name': 'Tencent'},\n",
       " {'name': 'Western Digital'},\n",
       " {'name': 'LinkedIn'},\n",
       " {'name': 'BMC Software'},\n",
       " {'name': 'Rackspace'}]"
      ]
     },
     "execution_count": 103,
     "metadata": {},
     "output_type": "execute_result"
    }
   ],
   "source": [
    "proj = {\"_id\": 0,\"name\": 1}\n",
    "list(collection.find({\"ipo\":{\"$exists\":True}},proj).limit(10).sort(\"ipo.valuation_amount\",-1))"
   ]
  },
  {
   "cell_type": "markdown",
   "metadata": {},
   "source": [
    "### 10. Retrieve the 10 companies with more employees, order by the `number of employees`"
   ]
  },
  {
   "cell_type": "code",
   "execution_count": 79,
   "metadata": {},
   "outputs": [
    {
     "data": {
      "text/plain": [
       "[{'name': 'Omnidrive'},\n",
       " {'name': 'Lala'},\n",
       " {'name': 'Gizmoz'},\n",
       " {'name': 'Flektor'},\n",
       " {'name': 'StumbleUpon'},\n",
       " {'name': 'CBS'},\n",
       " {'name': 'Viacom'},\n",
       " {'name': 'Postini'},\n",
       " {'name': 'Slacker'},\n",
       " {'name': 'Helio'}]"
      ]
     },
     "execution_count": 79,
     "metadata": {},
     "output_type": "execute_result"
    }
   ],
   "source": [
    "proj = {\"_id\": 0,\"name\": 1}\n",
    "list(collection.find({\"number_of_employees\":{\"$exists\":True}},proj).sort(\"number_of_employees\",1).limit(10))"
   ]
  },
  {
   "cell_type": "markdown",
   "metadata": {},
   "source": [
    "### 11. All the companies founded on the second semester of the year. Limit your search to 1000 companies."
   ]
  },
  {
   "cell_type": "code",
   "execution_count": 71,
   "metadata": {},
   "outputs": [
    {
     "data": {
      "text/plain": [
       "[{'name': 'Wetpaint'},\n",
       " {'name': 'Zoho'},\n",
       " {'name': 'Postini'},\n",
       " {'name': 'Digg'},\n",
       " {'name': 'Omnidrive'},\n",
       " {'name': 'Geni'},\n",
       " {'name': 'Fox Interactive Media'},\n",
       " {'name': 'Joost'},\n",
       " {'name': 'Plaxo'},\n",
       " {'name': 'Powerset'}]"
      ]
     },
     "execution_count": 71,
     "metadata": {},
     "output_type": "execute_result"
    }
   ],
   "source": [
    "proj = {\"_id\": 0,\"name\": 1}\n",
    "list(collection.find({\"founded_month\":{\"$gte\": 6}},proj).limit(10))"
   ]
  },
  {
   "cell_type": "markdown",
   "metadata": {},
   "source": [
    "### 12. All the companies founded before 2000 that have an acquisition amount of more than 10.000.00"
   ]
  },
  {
   "cell_type": "code",
   "execution_count": 78,
   "metadata": {},
   "outputs": [
    {
     "data": {
      "text/plain": [
       "[{'name': 'Postini'},\n",
       " {'name': 'SideStep'},\n",
       " {'name': 'Recipezaar'},\n",
       " {'name': 'Cyworld'},\n",
       " {'name': 'PayPal'},\n",
       " {'name': 'Snapfish'},\n",
       " {'name': 'Neopets'},\n",
       " {'name': 'Sun Microsystems'},\n",
       " {'name': 'Zappos'},\n",
       " {'name': 'Alibaba'}]"
      ]
     },
     "execution_count": 78,
     "metadata": {},
     "output_type": "execute_result"
    }
   ],
   "source": [
    "proj = {\"_id\": 0,\"name\": 1}\n",
    "condicion1 = {\"founded_year\":{\"$lt\": 2000}}\n",
    "condicion2 = {\"acquisition.price_amount\":{\"$gt\": 10000}}\n",
    "list(collection.find({\"$and\": [condicion1,condicion2]},proj).limit(10))"
   ]
  },
  {
   "cell_type": "markdown",
   "metadata": {},
   "source": [
    "### 13. All the companies that have been acquired after 2010, order by the acquisition amount, and retrieve only their `name` and `acquisition` field."
   ]
  },
  {
   "cell_type": "code",
   "execution_count": 77,
   "metadata": {
    "scrolled": true
   },
   "outputs": [
    {
     "data": {
      "text/plain": [
       "[{'name': 'Geni',\n",
       "  'acquisition': {'price_amount': None,\n",
       "   'price_currency_code': 'USD',\n",
       "   'term_code': None,\n",
       "   'source_url': 'http://techcrunch.com/2012/11/28/all-in-the-family-myheritage-buys-former-yammer-stablemate-geni-com-raises-25m/',\n",
       "   'source_description': 'MyHeritage acquires Geni and $25M to build family tree of the whole world',\n",
       "   'acquired_year': 2012,\n",
       "   'acquired_month': 11,\n",
       "   'acquired_day': 28,\n",
       "   'acquiring_company': {'name': 'MyHeritage', 'permalink': 'myheritage'}}},\n",
       " {'name': 'Mashery',\n",
       "  'acquisition': {'price_amount': None,\n",
       "   'price_currency_code': 'USD',\n",
       "   'term_code': None,\n",
       "   'source_url': 'http://allthingsd.com/20130417/intel-acquires-api-manager-mashery/',\n",
       "   'source_description': 'Intel Acquires API Manager Mashery',\n",
       "   'acquired_year': 2013,\n",
       "   'acquired_month': 4,\n",
       "   'acquired_day': 17,\n",
       "   'acquiring_company': {'name': 'Intel', 'permalink': 'intel'}}},\n",
       " {'name': 'delicious',\n",
       "  'acquisition': {'price_amount': None,\n",
       "   'price_currency_code': 'USD',\n",
       "   'term_code': None,\n",
       "   'source_url': 'http://techcrunch.com/2011/04/27/yahoo-sells-delicious-to-youtube-founders/',\n",
       "   'source_description': 'Yahoo Sells Delicious To YouTube Founders',\n",
       "   'acquired_year': 2011,\n",
       "   'acquired_month': 4,\n",
       "   'acquired_day': 27,\n",
       "   'acquiring_company': {'name': 'AVOS Systems', 'permalink': 'avos'}}},\n",
       " {'name': 'blogTV',\n",
       "  'acquisition': {'price_amount': None,\n",
       "   'price_currency_code': 'USD',\n",
       "   'term_code': None,\n",
       "   'source_url': 'http://techcrunch.com/2013/03/13/younow-buys-blogtv/',\n",
       "   'source_description': 'Live Social Video Network YouNow Acquires Streaming Service BlogTV',\n",
       "   'acquired_year': 2013,\n",
       "   'acquired_month': 3,\n",
       "   'acquired_day': 13,\n",
       "   'acquiring_company': {'name': 'YouNow', 'permalink': 'younow'}}},\n",
       " {'name': 'Kyte',\n",
       "  'acquisition': {'price_amount': None,\n",
       "   'price_currency_code': 'USD',\n",
       "   'term_code': None,\n",
       "   'source_url': 'http://techcrunch.com/2011/01/31/exclusive-kit-digital-acquires-kickapps-kewego-and-kyte-for-77-2-million/',\n",
       "   'source_description': 'KIT digital Acquires KickApps, Kewego AND Kyte For $77.2 Million',\n",
       "   'acquired_year': 2011,\n",
       "   'acquired_month': 1,\n",
       "   'acquired_day': 31,\n",
       "   'acquiring_company': {'name': 'KIT digital', 'permalink': 'kit-digital'}}}]"
      ]
     },
     "execution_count": 77,
     "metadata": {},
     "output_type": "execute_result"
    }
   ],
   "source": [
    "proj = {\"_id\": 0,\"name\": 1,\"acquisition\":1}\n",
    "list(collection.find({\"acquisition.acquired_year\":{\"$gt\": 2010}},proj).limit(5).sort(\"acquisition.price_amount\",1))"
   ]
  },
  {
   "cell_type": "markdown",
   "metadata": {},
   "source": [
    "### 14. Order the companies by their `founded year`, retrieving only their `name` and `founded year`."
   ]
  },
  {
   "cell_type": "code",
   "execution_count": 87,
   "metadata": {},
   "outputs": [
    {
     "data": {
      "text/plain": [
       "[{'name': 'Wamba', 'founded_year': 2013},\n",
       " {'name': 'Gimigo', 'founded_year': 2013},\n",
       " {'name': 'Clowdy', 'founded_year': 2013},\n",
       " {'name': 'Fluc', 'founded_year': 2013},\n",
       " {'name': 'Advaliant', 'founded_year': 2013},\n",
       " {'name': 'Pikk', 'founded_year': 2013},\n",
       " {'name': 'WhosCall', 'founded_year': 2013},\n",
       " {'name': 'SEOGroup', 'founded_year': 2013},\n",
       " {'name': 'iBazar', 'founded_year': 2013},\n",
       " {'name': 'Fixya', 'founded_year': 2013}]"
      ]
     },
     "execution_count": 87,
     "metadata": {},
     "output_type": "execute_result"
    }
   ],
   "source": [
    "proj = {\"_id\": 0,\"name\": 1,\"founded_year\":1}\n",
    "list(collection.find({\"founded_year\":{\"$exists\": True}},proj).limit(10).sort(\"founded_year\",-1))"
   ]
  },
  {
   "cell_type": "markdown",
   "metadata": {},
   "source": [
    "### 15. All the companies that have been founded on the first seven days of the month, including the seventh. Sort them by their `acquisition price` in a descending order. Limit the search to 10 documents."
   ]
  },
  {
   "cell_type": "code",
   "execution_count": 90,
   "metadata": {},
   "outputs": [
    {
     "data": {
      "text/plain": [
       "[{'name': 'Netscape', 'founded_day': 4},\n",
       " {'name': 'PayPal', 'founded_day': 1},\n",
       " {'name': 'Zappos', 'founded_day': 1},\n",
       " {'name': 'Alibaba', 'founded_day': 1},\n",
       " {'name': 'Postini', 'founded_day': 2},\n",
       " {'name': 'Danger', 'founded_day': 1},\n",
       " {'name': 'Clearwell Systems', 'founded_day': 6},\n",
       " {'name': 'PrimeSense', 'founded_day': 1},\n",
       " {'name': 'Amobee', 'founded_day': 1},\n",
       " {'name': 'Vitrue', 'founded_day': 1}]"
      ]
     },
     "execution_count": 90,
     "metadata": {},
     "output_type": "execute_result"
    }
   ],
   "source": [
    "proj = {\"_id\": 0,\"name\": 1,\"founded_day\":1}\n",
    "list(collection.find({\"founded_day\":{\"$lte\": 7}},proj).limit(10).sort(\"acquisition.price_amount\",-1))"
   ]
  },
  {
   "cell_type": "markdown",
   "metadata": {},
   "source": [
    "### 16. All the companies on the 'web' `category` that have more than 4000 employees. Sort them by the amount of employees in ascending order."
   ]
  },
  {
   "cell_type": "code",
   "execution_count": 92,
   "metadata": {},
   "outputs": [
    {
     "data": {
      "text/plain": [
       "[{'name': 'Expedia', 'category_code': 'web'},\n",
       " {'name': 'AOL', 'category_code': 'web'},\n",
       " {'name': 'Webkinz', 'category_code': 'web'},\n",
       " {'name': 'Rakuten', 'category_code': 'web'},\n",
       " {'name': 'Los Angeles Times Media Group', 'category_code': 'web'},\n",
       " {'name': 'Groupon', 'category_code': 'web'},\n",
       " {'name': 'Yahoo!', 'category_code': 'web'},\n",
       " {'name': 'eBay', 'category_code': 'web'},\n",
       " {'name': 'Experian', 'category_code': 'web'}]"
      ]
     },
     "execution_count": 92,
     "metadata": {},
     "output_type": "execute_result"
    }
   ],
   "source": [
    "proj = {\"_id\": 0,\"name\": 1,\"category_code\":1}\n",
    "condicion1 = {\"category_code\":\"web\"}\n",
    "condicion2 = {\"number_of_employees\":{\"$gt\": 4000}}\n",
    "list(collection.find({\"$and\": [condicion1,condicion2]},proj).sort(\"number_of_employees\",1).limit(10))"
   ]
  },
  {
   "cell_type": "markdown",
   "metadata": {},
   "source": [
    "### 17. All the companies whose acquisition amount is more than 10.000.000, and currency is 'EUR'."
   ]
  },
  {
   "cell_type": "code",
   "execution_count": 104,
   "metadata": {},
   "outputs": [
    {
     "data": {
      "text/plain": [
       "[{'name': 'ZYB'},\n",
       " {'name': 'Apertio'},\n",
       " {'name': 'Greenfield Online'},\n",
       " {'name': 'Webedia'},\n",
       " {'name': 'Wayfinder'},\n",
       " {'name': 'Tuenti Technologies'},\n",
       " {'name': 'BioMed Central'}]"
      ]
     },
     "execution_count": 104,
     "metadata": {},
     "output_type": "execute_result"
    }
   ],
   "source": [
    "proj = {\"_id\": 0,\"name\": 1}\n",
    "condicion1 = {\"acquisition.price_amount\":{\"$gt\": 10000000}}\n",
    "condicion2 = {\"acquisition.price_currency_code\":\"EUR\"}\n",
    "list(collection.find({\"$and\":[condicion1,condicion2]},proj).limit(10))"
   ]
  },
  {
   "cell_type": "markdown",
   "metadata": {},
   "source": [
    "### 18. All the companies that have been acquired on the first trimester of the year. Limit the search to 10 companies, and retrieve only their `name` and `acquisition` fields."
   ]
  },
  {
   "cell_type": "code",
   "execution_count": 99,
   "metadata": {},
   "outputs": [
    {
     "data": {
      "text/plain": [
       "[{'name': 'Kyte', 'acquisition': {'acquired_month': 1}},\n",
       " {'name': 'NetRatings', 'acquisition': {'acquired_month': 2}},\n",
       " {'name': 'blogTV', 'acquisition': {'acquired_month': 3}},\n",
       " {'name': 'Livestream', 'acquisition': {'acquired_month': 1}},\n",
       " {'name': 'iContact', 'acquisition': {'acquired_month': 2}},\n",
       " {'name': 'Coghead', 'acquisition': {'acquired_month': 2}},\n",
       " {'name': 'Dailymotion', 'acquisition': {'acquired_month': 2}},\n",
       " {'name': 'Netvibes', 'acquisition': {'acquired_month': 2}},\n",
       " {'name': 'Flickr', 'acquisition': {'acquired_month': 3}},\n",
       " {'name': 'BabyCenter', 'acquisition': {'acquired_month': 3}}]"
      ]
     },
     "execution_count": 99,
     "metadata": {},
     "output_type": "execute_result"
    }
   ],
   "source": [
    "proj = {\"_id\": 0,\"name\": 1,\"acquisition.acquired_month\":1}\n",
    "list(collection.find({\"acquisition.acquired_month\":{\"$lte\": 3}},proj).limit(10))"
   ]
  },
  {
   "cell_type": "markdown",
   "metadata": {},
   "source": [
    "# Bonus\n",
    "### 19. All the companies that have been founded between 2000 and 2010, but have not been acquired before 2011."
   ]
  },
  {
   "cell_type": "code",
   "execution_count": 109,
   "metadata": {},
   "outputs": [
    {
     "data": {
      "text/plain": [
       "[{'name': 'Wetpaint'},\n",
       " {'name': 'Digg'},\n",
       " {'name': 'Geni'},\n",
       " {'name': 'blogTV'},\n",
       " {'name': 'Revision3'},\n",
       " {'name': 'iContact'},\n",
       " {'name': 'Mashery'},\n",
       " {'name': 'Dailymotion'},\n",
       " {'name': 'Netvibes'},\n",
       " {'name': 'KickApps'}]"
      ]
     },
     "execution_count": 109,
     "metadata": {},
     "output_type": "execute_result"
    }
   ],
   "source": [
    "proj = {\"_id\": 0,\"name\": 1}\n",
    "condicion1 = {\"founded_year\":{\"$gt\": 2000}}\n",
    "condicion2 = {\"founded_year\":{\"$lt\": 2010}}\n",
    "condicion3 = {\"acquisition.acquired_year\":{\"$gt\":2011}}\n",
    "list(collection.find({\"$and\":[condicion1,condicion2,condicion3]},proj).limit(10))"
   ]
  },
  {
   "cell_type": "markdown",
   "metadata": {},
   "source": [
    "### 20. All the companies that have been 'deadpooled' after the third year."
   ]
  },
  {
   "cell_type": "code",
   "execution_count": 112,
   "metadata": {},
   "outputs": [
    {
     "data": {
      "text/plain": [
       "[{'name': 'Omnidrive', 'deadpooled_year': 2008},\n",
       " {'name': 'Babelgum', 'deadpooled_year': 2013},\n",
       " {'name': 'Sparter', 'deadpooled_year': 2008},\n",
       " {'name': 'Thoof', 'deadpooled_year': 2013},\n",
       " {'name': 'Mercora', 'deadpooled_year': 2008},\n",
       " {'name': 'Wesabe', 'deadpooled_year': 2010},\n",
       " {'name': 'Jangl SMS', 'deadpooled_year': 2008},\n",
       " {'name': 'Stickam', 'deadpooled_year': 2013},\n",
       " {'name': 'AllPeers', 'deadpooled_year': 2008},\n",
       " {'name': 'EQO', 'deadpooled_year': 2012}]"
      ]
     },
     "execution_count": 112,
     "metadata": {},
     "output_type": "execute_result"
    }
   ],
   "source": [
    "proj = {\"_id\": 0,\"name\": 1,\"deadpooled_year\":1}\n",
    "list(collection.find({\"deadpooled_year\":{\"$gt\": 3}},proj).limit(10))"
   ]
  },
  {
   "cell_type": "code",
   "execution_count": null,
   "metadata": {},
   "outputs": [],
   "source": []
  }
 ],
 "metadata": {
  "kernelspec": {
   "display_name": "Python 3",
   "language": "python",
   "name": "python3"
  },
  "language_info": {
   "codemirror_mode": {
    "name": "ipython",
    "version": 3
   },
   "file_extension": ".py",
   "mimetype": "text/x-python",
   "name": "python",
   "nbconvert_exporter": "python",
   "pygments_lexer": "ipython3",
   "version": "3.8.5"
  }
 },
 "nbformat": 4,
 "nbformat_minor": 2
}
